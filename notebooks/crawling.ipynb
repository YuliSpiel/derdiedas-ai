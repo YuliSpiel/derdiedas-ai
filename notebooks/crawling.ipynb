{
 "cells": [
  {
   "cell_type": "code",
   "execution_count": 1,
   "id": "640f7fea",
   "metadata": {},
   "outputs": [
    {
     "name": "stdout",
     "output_type": "stream",
     "text": [
      "71 pages saved.\n"
     ]
    }
   ],
   "source": [
    "import requests, os, time\n",
    "from bs4 import BeautifulSoup\n",
    "BASE = \"https://boisestate.pressbooks.pub/grammardeutschimblickgerm101/\"\n",
    "INDEX = BASE + \"table-of-contents/\"\n",
    "os.makedirs(\"pressbook_html\", exist_ok=True)\n",
    "\n",
    "# 1) 목차에서 모든 챕터 링크 수집\n",
    "soup = BeautifulSoup(requests.get(INDEX).text, \"html.parser\")\n",
    "links = [a[\"href\"] for a in soup.select(\"a[href]\") if a[\"href\"].startswith(BASE)]\n",
    "\n",
    "# 2) 각 페이지 저장\n",
    "for url in links:\n",
    "    r = requests.get(url)\n",
    "    fn = \"pressbook_html/\" + url.rstrip(\"/\").split(\"/\")[-1] + \".html\"\n",
    "    open(fn, \"w\", encoding=\"utf-8\").write(r.text)\n",
    "    time.sleep(1)\n",
    "print(f\"{len(links)} pages saved.\")\n"
   ]
  }
 ],
 "metadata": {
  "kernelspec": {
   "display_name": "dddvenv",
   "language": "python",
   "name": "python3"
  },
  "language_info": {
   "codemirror_mode": {
    "name": "ipython",
    "version": 3
   },
   "file_extension": ".py",
   "mimetype": "text/x-python",
   "name": "python",
   "nbconvert_exporter": "python",
   "pygments_lexer": "ipython3",
   "version": "3.11.14"
  }
 },
 "nbformat": 4,
 "nbformat_minor": 5
}
